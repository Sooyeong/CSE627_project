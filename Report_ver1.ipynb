{
 "cells": [
  {
   "cell_type": "markdown",
   "metadata": {},
   "source": [
    "# CSE 627 Project 1\n",
    "### House Price: Advanced Regression Techniques \n",
    "### By Sooyeong Lim, Jason Zhao\n",
    "\n",
    "\n",
    "\n",
    "\n",
    "# Introduction\n",
    "\n",
    " Why do we choose this project? - We choose this dataset for our project because of several reasons. Firstly, we can practice feature engineering by doing this project. Feature engineering in data scince is very important and this dataset contains a lot of features so, it is challenge enough to be a good project. The type of data is not restricted quantitative variable, it also contains qualitative dataset. Secondly, By doing this project we can practice from regularized model to Neural network based model so that we can have hands on expereince by doing this project\n",
    " \n",
    "\n",
    "* Timeline and Plan\n",
    "\n",
    "Fit the rough model and had a meeting with Dr. Femiani. After the first meeting, we verified that our approach valid and came up alternative ways to fit the model- NN based model fitting. But it turned out that there is some problem in the feature Engineering\n"
   ]
  },
  {
   "cell_type": "markdown",
   "metadata": {},
   "source": [
    "### Index \n",
    "\n",
    "\n",
    "* Exploratory Data Analysis\n",
    "* Feature Engineering\n",
    "* Modeling\n",
    "* Results\n",
    "* Limitations/Recommendations\n",
    "* Reference/Resource"
   ]
  },
  {
   "cell_type": "markdown",
   "metadata": {},
   "source": [
    "### Exploratory Data Analysis"
   ]
  },
  {
   "cell_type": "markdown",
   "metadata": {},
   "source": [
    "[1] Exploratory Data analysis is giving a direction of further analysis. We checked that the overall trend of data distribution and relationship between predictors and response variables. "
   ]
  },
  {
   "cell_type": "markdown",
   "metadata": {},
   "source": [
    "### Feature Engineering"
   ]
  },
  {
   "cell_type": "markdown",
   "metadata": {},
   "source": [
    "[2] A lot of effort in Feature Engineering is needed for this problem. There are many missing observations for the train and test dataset so we imputed by using some trics. We encoded categorical variables. After plotting the dataset that we realized that the relationship between X*Y is not just linear regression. We created seperate Python file to avoid this report lengthy "
   ]
  },
  {
   "cell_type": "code",
   "execution_count": null,
   "metadata": {},
   "outputs": [],
   "source": []
  },
  {
   "cell_type": "markdown",
   "metadata": {},
   "source": [
    "### Modeling"
   ]
  },
  {
   "cell_type": "markdown",
   "metadata": {},
   "source": [
    "[3] Firstly, we fitted Regularized Linear model by using Ridge regression (L2) Regularization and checked it's performance. And tried to apply Elastic net which is ensenble model of L1(Lasso) regression with L2. After fitting this regression file, we also used Neural Network based model by using Pytorch\n",
    "Firt trial, Second trial, Third Trial.. Feature engineering again, Grid search"
   ]
  },
  {
   "cell_type": "markdown",
   "metadata": {},
   "source": [
    "### Results"
   ]
  },
  {
   "cell_type": "markdown",
   "metadata": {},
   "source": [
    "[4] The result suggests that ~ shows best performance .... between other method\n",
    "\n",
    "(-Create table and show the result// Leader bord score.)\n",
    "\n"
   ]
  },
  {
   "cell_type": "markdown",
   "metadata": {},
   "source": [
    "### Limitation/Recommendations"
   ]
  },
  {
   "cell_type": "markdown",
   "metadata": {},
   "source": [
    "[5] Limitations/Recommendations\n",
    "1. The training data and test dataset have a same length and the performance of the model might be improved that if we can obtain more dataset \n",
    "\n",
    "2. We realize that a lot of domain knowledg is requried "
   ]
  },
  {
   "cell_type": "markdown",
   "metadata": {},
   "source": [
    "### Reference/Resource"
   ]
  },
  {
   "cell_type": "markdown",
   "metadata": {},
   "source": [
    "[1] https://www.kaggle.com/juliencs/a-study-on-regression-applied-to-the-ames-dataset"
   ]
  },
  {
   "cell_type": "markdown",
   "metadata": {},
   "source": [
    "[2] https://github.com/Sooyeong/CSE627_project "
   ]
  },
  {
   "cell_type": "code",
   "execution_count": null,
   "metadata": {},
   "outputs": [],
   "source": []
  }
 ],
 "metadata": {
  "kernelspec": {
   "display_name": "Python 3",
   "language": "python",
   "name": "python3"
  },
  "language_info": {
   "codemirror_mode": {
    "name": "ipython",
    "version": 3
   },
   "file_extension": ".py",
   "mimetype": "text/x-python",
   "name": "python",
   "nbconvert_exporter": "python",
   "pygments_lexer": "ipython3",
   "version": "3.6.6"
  }
 },
 "nbformat": 4,
 "nbformat_minor": 2
}
